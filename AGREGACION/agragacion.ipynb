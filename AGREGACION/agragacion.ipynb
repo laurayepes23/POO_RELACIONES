{
 "cells": [
  {
   "cell_type": "markdown",
   "id": "bf48343c",
   "metadata": {},
   "source": [
    "EJEMPLO"
   ]
  },
  {
   "cell_type": "code",
   "execution_count": 1,
   "id": "51ca3613",
   "metadata": {},
   "outputs": [
    {
     "name": "stdout",
     "output_type": "stream",
     "text": [
      "U Nacional\n",
      "Departamento: Ingeniería\n",
      "Departamento: Artes\n"
     ]
    }
   ],
   "source": [
    "class Departamento:\n",
    "    def __init__(self, nombre):\n",
    "        self.nombre = nombre\n",
    "\n",
    "class Universidad:\n",
    "    def __init__(self, nombre):\n",
    "        self.nombre = nombre\n",
    "        self.departamentos = []  # Lista de departamentos\n",
    "\n",
    "    def agregar_departamento(self, departamento):\n",
    "        self.departamentos.append(departamento)\n",
    "\n",
    "# Uso\n",
    "dep1 = Departamento(\"Ingeniería\")\n",
    "dep2 = Departamento(\"Artes\")\n",
    "\n",
    "uni = Universidad(\"U Nacional\")\n",
    "uni.agregar_departamento(dep1)\n",
    "uni.agregar_departamento(dep2)\n",
    "\n",
    "print(uni.nombre)\n",
    "for d in uni.departamentos:\n",
    "    print(f\"Departamento: {d.nombre}\")\n"
   ]
  },
  {
   "cell_type": "markdown",
   "id": "bb2fd556",
   "metadata": {},
   "source": [
    "Universidad guarda una lista de Departamento.\n",
    "\n",
    "Los departamentos existen antes de agregarlos a la universidad, y pueden existir aunque se elimine Universidad.\n",
    "\n",
    "No hay dependencia de ciclo de vida.\n",
    "\n",
    "Es una relación “tiene un”, pero débil → Agregación.\n",
    "\n"
   ]
  }
 ],
 "metadata": {
  "kernelspec": {
   "display_name": "Python 3",
   "language": "python",
   "name": "python3"
  },
  "language_info": {
   "codemirror_mode": {
    "name": "ipython",
    "version": 3
   },
   "file_extension": ".py",
   "mimetype": "text/x-python",
   "name": "python",
   "nbconvert_exporter": "python",
   "pygments_lexer": "ipython3",
   "version": "3.11.9"
  }
 },
 "nbformat": 4,
 "nbformat_minor": 5
}
