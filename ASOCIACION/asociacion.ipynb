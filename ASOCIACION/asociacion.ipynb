{
 "cells": [
  {
   "cell_type": "markdown",
   "id": "bf48343c",
   "metadata": {},
   "source": [
    "EJEMPLO"
   ]
  },
  {
   "cell_type": "code",
   "execution_count": 1,
   "id": "51ca3613",
   "metadata": {},
   "outputs": [
    {
     "name": "stdout",
     "output_type": "stream",
     "text": [
      "La materia Matemáticas es dictada por Laura\n"
     ]
    }
   ],
   "source": [
    "class Profesor:\n",
    "    def __init__(self, nombre):\n",
    "        self.nombre = nombre\n",
    "\n",
    "class Materia:\n",
    "    def __init__(self, nombre):\n",
    "        self.nombre = nombre\n",
    "\n",
    "    def asignar_profesor(self, profesor):\n",
    "        print(f\"La materia {self.nombre} es dictada por {profesor.nombre}\")\n",
    "\n",
    "# Uso\n",
    "prof = Profesor(\"Laura\")\n",
    "mate = Materia(\"Matemáticas\")\n",
    "mate.asignar_profesor(prof)\n"
   ]
  },
  {
   "cell_type": "markdown",
   "id": "bb2fd556",
   "metadata": {},
   "source": [
    "Materia tiene un método asignar_profesor() que recibe un objeto Profesor.\n",
    "\n",
    "Materia NO guarda al profesor como atributo interno, solo lo usa momentáneamente.\n",
    "\n",
    "Si se destruye Materia, Profesor sigue existiendo, y viceversa.\n",
    "\n",
    "Es una relación temporal de uso → por eso es una Asociación."
   ]
  }
 ],
 "metadata": {
  "kernelspec": {
   "display_name": "Python 3",
   "language": "python",
   "name": "python3"
  },
  "language_info": {
   "codemirror_mode": {
    "name": "ipython",
    "version": 3
   },
   "file_extension": ".py",
   "mimetype": "text/x-python",
   "name": "python",
   "nbconvert_exporter": "python",
   "pygments_lexer": "ipython3",
   "version": "3.11.9"
  }
 },
 "nbformat": 4,
 "nbformat_minor": 5
}
