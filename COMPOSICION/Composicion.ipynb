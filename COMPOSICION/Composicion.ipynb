{
 "cells": [
  {
   "cell_type": "code",
   "execution_count": 1,
   "id": "210e2cec",
   "metadata": {},
   "outputs": [
    {
     "name": "stdout",
     "output_type": "stream",
     "text": [
      "Habitación: Principal\n",
      "Baño con ducha\n"
     ]
    }
   ],
   "source": [
    "class Habitacion:\n",
    "    def __init__(self, nombre):\n",
    "        self.nombre = nombre\n",
    "\n",
    "    def mostrar(self):\n",
    "        print(f\"Habitación: {self.nombre}\")\n",
    "\n",
    "class Bano:\n",
    "    def __init__(self, tiene_ducha):\n",
    "        self.tiene_ducha = tiene_ducha\n",
    "\n",
    "    def mostrar(self):\n",
    "        tipo = \"con ducha\" if self.tiene_ducha else \"sin ducha\"\n",
    "        print(f\"Baño {tipo}\")\n",
    "\n",
    "class Casa:\n",
    "    def __init__(self):\n",
    "        self.habitacion = Habitacion(\"Principal\")\n",
    "        self.bano = Bano(tiene_ducha=True)\n",
    "\n",
    "    def mostrar_detalles(self):\n",
    "        self.habitacion.mostrar()\n",
    "        self.bano.mostrar()\n",
    "\n",
    "# Crear un objeto Casa\n",
    "mi_casa = Casa()\n",
    "mi_casa.mostrar_detalles()\n"
   ]
  },
  {
   "cell_type": "markdown",
   "id": "a33569a4",
   "metadata": {},
   "source": [
    "# Descripcion Conceptual \n",
    "La clase Casa se compone de:\n",
    "\n",
    "    Una instancia de Habitacion\n",
    "\n",
    "    Una instancia de Bano\n",
    "\n",
    "Estas instancias se crean dentro del constructor __init__() de la clase Casa.\n",
    "\n",
    "Relación de composición: si el objeto Casa desaparece, también lo hacen sus componentes (Habitacion y Bano).\n"
   ]
  }
 ],
 "metadata": {
  "kernelspec": {
   "display_name": "Python 3",
   "language": "python",
   "name": "python3"
  },
  "language_info": {
   "codemirror_mode": {
    "name": "ipython",
    "version": 3
   },
   "file_extension": ".py",
   "mimetype": "text/x-python",
   "name": "python",
   "nbconvert_exporter": "python",
   "pygments_lexer": "ipython3",
   "version": "3.13.3"
  }
 },
 "nbformat": 4,
 "nbformat_minor": 5
}
