{
 "cells": [
  {
   "cell_type": "markdown",
   "id": "bf48343c",
   "metadata": {},
   "source": [
    "EJEMPLO"
   ]
  },
  {
   "cell_type": "code",
   "execution_count": 1,
   "id": "51ca3613",
   "metadata": {},
   "outputs": [
    {
     "name": "stdout",
     "output_type": "stream",
     "text": [
      "Este animal come\n",
      "Guau guau\n"
     ]
    }
   ],
   "source": [
    "class Animal:\n",
    "    def comer(self):\n",
    "        print(\"Este animal come\")\n",
    "\n",
    "class Perro(Animal):  # Perro hereda de Animal\n",
    "    def ladrar(self):\n",
    "        print(\"Guau guau\")\n",
    "\n",
    "# Uso\n",
    "mi_perro = Perro()\n",
    "mi_perro.comer()   # Heredado de Animal\n",
    "mi_perro.ladrar()  # Propio de Perro\n"
   ]
  },
  {
   "cell_type": "markdown",
   "id": "bb2fd556",
   "metadata": {},
   "source": [
    "-Perro hereda de Animal.\n",
    "-Animal tiene el método comer().\n",
    "-Perro tiene su propio método ladrar(), pero además hereda comer() de Animal."
   ]
  }
 ],
 "metadata": {
  "kernelspec": {
   "display_name": "Python 3",
   "language": "python",
   "name": "python3"
  },
  "language_info": {
   "codemirror_mode": {
    "name": "ipython",
    "version": 3
   },
   "file_extension": ".py",
   "mimetype": "text/x-python",
   "name": "python",
   "nbconvert_exporter": "python",
   "pygments_lexer": "ipython3",
   "version": "3.11.9"
  }
 },
 "nbformat": 4,
 "nbformat_minor": 5
}
