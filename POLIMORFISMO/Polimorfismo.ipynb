{
 "cells": [
  {
   "cell_type": "code",
   "execution_count": 1,
   "id": "9d1a635f",
   "metadata": {},
   "outputs": [
    {
     "name": "stdout",
     "output_type": "stream",
     "text": [
      "Área: 16.00\n",
      "Área: 28.27\n"
     ]
    }
   ],
   "source": [
    "import math\n",
    "\n",
    "class Figura:\n",
    "    def area(self):\n",
    "        pass  # Método que será sobrescrito \n",
    "\n",
    "class Cuadrado(Figura):\n",
    "    def __init__(self, lado):\n",
    "        self.lado = lado\n",
    "\n",
    "    def area(self):\n",
    "        return self.lado ** 2\n",
    "\n",
    "class Circulo(Figura):\n",
    "    def __init__(self, radio):\n",
    "        self.radio = radio\n",
    "\n",
    "    def area(self):\n",
    "        return math.pi * self.radio ** 2\n",
    "\n",
    "\n",
    "figuras = [Cuadrado(4), Circulo(3)]\n",
    "\n",
    "for figura in figuras:\n",
    "    print(f\"Área: {figura.area():.2f}\")\n"
   ]
  },
  {
   "cell_type": "markdown",
   "id": "9bedb8f1",
   "metadata": {},
   "source": [
    "# Descripcion Conceptual \n",
    "\n",
    "`Figura`: Superclase abstracta. Define el método `area()` como interfaz común.  \n",
    "\n",
    "`Cuadrado` y `Circulo` : Subclases que **heredan de `Figura`** y **sobrescriben `area()`**. \n",
    "\n",
    "`area()` : Método polimórfico: se comporta diferente dependiendo del objeto que lo implementa. \n",
    "\n",
    "`figuras`: Lista con instancias de diferentes clases que comparten el método `area()`.\n",
    "\n",
    "Bucle `for` : Se invoca `area()` sin importar si es un `Cuadrado` o un `Circulo`. Cada uno responde de forma distinta: eso es **polimorfismo**. |\n"
   ]
  }
 ],
 "metadata": {
  "kernelspec": {
   "display_name": "Python 3",
   "language": "python",
   "name": "python3"
  },
  "language_info": {
   "codemirror_mode": {
    "name": "ipython",
    "version": 3
   },
   "file_extension": ".py",
   "mimetype": "text/x-python",
   "name": "python",
   "nbconvert_exporter": "python",
   "pygments_lexer": "ipython3",
   "version": "3.13.3"
  }
 },
 "nbformat": 4,
 "nbformat_minor": 5
}
