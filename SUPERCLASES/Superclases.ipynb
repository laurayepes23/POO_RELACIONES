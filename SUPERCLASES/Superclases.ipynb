{
 "cells": [
  {
   "cell_type": "code",
   "execution_count": 1,
   "id": "abddeb11",
   "metadata": {},
   "outputs": [
    {
     "name": "stdout",
     "output_type": "stream",
     "text": [
      "Fido dice: ¡Guau!\n",
      "Michi dice: ¡Miau!\n"
     ]
    }
   ],
   "source": [
    "class Animal:\n",
    "    def __init__(self, nombre):\n",
    "        self.nombre = nombre\n",
    "\n",
    "    def hablar(self):\n",
    "        print(f\"{self.nombre} hace un sonido\")\n",
    "\n",
    "class Perro(Animal):\n",
    "    def hablar(self):\n",
    "        print(f\"{self.nombre} dice: ¡Guau!\")\n",
    "\n",
    "class Gato(Animal):\n",
    "    def hablar(self):\n",
    "        print(f\"{self.nombre} dice: ¡Miau!\")\n",
    "\n",
    "# Uso de las clases\n",
    "mi_perro = Perro(\"Fido\")\n",
    "mi_gato = Gato(\"Michi\")\n",
    "\n",
    "mi_perro.hablar()   # Fido dice: ¡Guau!\n",
    "mi_gato.hablar()    # Michi dice: ¡Miau!"
   ]
  },
  {
   "cell_type": "markdown",
   "id": "c58b15a5",
   "metadata": {},
   "source": [
    "# Descripcion Conceptual \n",
    "\n",
    "\n",
    "`class Animal:` : Se define una **superclase** llamada `Animal`, que actúa como clase base.\n",
    "\n",
    "`__init__(self, nombre)`: Constructor que inicializa el atributo `nombre`. \n",
    "\n",
    "`hablar(self)`: Método general que se puede sobreescribir en subclases. \n",
    "\n",
    "`class Perro(Animal)`: Define una **subclase** que **hereda** de `Animal`.\n",
    "\n",
    "`class Gato(Animal)`: Otra subclase que también hereda de `Animal`. \n",
    "\n",
    "`mi_perro = Perro(\"Fido\")`: Se crea un objeto `Perro` que tiene un nombre.   \n",
    "\n",
    "`mi_gato = Gato(\"Michi\")` : Se crea un objeto `Gato` con su propio nombre.  \n",
    "\n",
    "`hablar()`: Cada subclase sobrescribe el método `hablar()` con su comportamiento específico. Esto se conoce como **polimorfismo**. |\n"
   ]
  }
 ],
 "metadata": {
  "kernelspec": {
   "display_name": "Python 3",
   "language": "python",
   "name": "python3"
  },
  "language_info": {
   "codemirror_mode": {
    "name": "ipython",
    "version": 3
   },
   "file_extension": ".py",
   "mimetype": "text/x-python",
   "name": "python",
   "nbconvert_exporter": "python",
   "pygments_lexer": "ipython3",
   "version": "3.13.3"
  }
 },
 "nbformat": 4,
 "nbformat_minor": 5
}
